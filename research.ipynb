{
 "cells": [
  {
   "cell_type": "code",
   "execution_count": 1,
   "metadata": {},
   "outputs": [],
   "source": [
    "#RESEARCH"
   ]
  },
  {
   "cell_type": "markdown",
   "metadata": {},
   "source": [
    "### NLP"
   ]
  },
  {
   "cell_type": "code",
   "execution_count": 4,
   "metadata": {},
   "outputs": [
    {
     "name": "stdout",
     "output_type": "stream",
     "text": [
      "Collecting nltk\n",
      "  Downloading nltk-3.9.1-py3-none-any.whl.metadata (2.9 kB)\n",
      "Requirement already satisfied: click in /opt/anaconda3/envs/datastrategy/lib/python3.11/site-packages (from nltk) (8.1.7)\n",
      "Requirement already satisfied: joblib in /opt/anaconda3/envs/datastrategy/lib/python3.11/site-packages (from nltk) (1.4.2)\n",
      "Collecting regex>=2021.8.3 (from nltk)\n",
      "  Downloading regex-2024.11.6-cp311-cp311-macosx_11_0_arm64.whl.metadata (40 kB)\n",
      "Requirement already satisfied: tqdm in /opt/anaconda3/envs/datastrategy/lib/python3.11/site-packages (from nltk) (4.66.5)\n",
      "Downloading nltk-3.9.1-py3-none-any.whl (1.5 MB)\n",
      "\u001b[2K   \u001b[90m━━━━━━━━━━━━━━━━━━━━━━━━━━━━━━━━━━━━━━━━\u001b[0m \u001b[32m1.5/1.5 MB\u001b[0m \u001b[31m22.4 MB/s\u001b[0m eta \u001b[36m0:00:00\u001b[0m\n",
      "\u001b[?25hDownloading regex-2024.11.6-cp311-cp311-macosx_11_0_arm64.whl (284 kB)\n",
      "Installing collected packages: regex, nltk\n",
      "Successfully installed nltk-3.9.1 regex-2024.11.6\n"
     ]
    }
   ],
   "source": [
    "%pip install nltk"
   ]
  },
  {
   "cell_type": "code",
   "execution_count": 5,
   "metadata": {},
   "outputs": [
    {
     "name": "stderr",
     "output_type": "stream",
     "text": [
      "[nltk_data] Downloading package vader_lexicon to\n",
      "[nltk_data]     /Users/sonja/nltk_data...\n"
     ]
    },
    {
     "data": {
      "text/html": [
       "<div>\n",
       "<style scoped>\n",
       "    .dataframe tbody tr th:only-of-type {\n",
       "        vertical-align: middle;\n",
       "    }\n",
       "\n",
       "    .dataframe tbody tr th {\n",
       "        vertical-align: top;\n",
       "    }\n",
       "\n",
       "    .dataframe thead th {\n",
       "        text-align: right;\n",
       "    }\n",
       "</style>\n",
       "<table border=\"1\" class=\"dataframe\">\n",
       "  <thead>\n",
       "    <tr style=\"text-align: right;\">\n",
       "      <th></th>\n",
       "      <th>Text</th>\n",
       "      <th>Compound Sentiment</th>\n",
       "      <th>Positive</th>\n",
       "      <th>Negative</th>\n",
       "      <th>Neutral</th>\n",
       "    </tr>\n",
       "  </thead>\n",
       "  <tbody>\n",
       "    <tr>\n",
       "      <th>0</th>\n",
       "      <td>The food was absolutely delicious, and the ser...</td>\n",
       "      <td>0.6468</td>\n",
       "      <td>0.323</td>\n",
       "      <td>0.000</td>\n",
       "      <td>0.677</td>\n",
       "    </tr>\n",
       "    <tr>\n",
       "      <th>1</th>\n",
       "      <td>I had a wonderful experience; the ambiance was...</td>\n",
       "      <td>0.7184</td>\n",
       "      <td>0.462</td>\n",
       "      <td>0.000</td>\n",
       "      <td>0.538</td>\n",
       "    </tr>\n",
       "    <tr>\n",
       "      <th>2</th>\n",
       "      <td>The pasta was cooked to perfection, and the fl...</td>\n",
       "      <td>0.5719</td>\n",
       "      <td>0.270</td>\n",
       "      <td>0.000</td>\n",
       "      <td>0.730</td>\n",
       "    </tr>\n",
       "    <tr>\n",
       "      <th>3</th>\n",
       "      <td>Terrible service! We had to wait over an hour ...</td>\n",
       "      <td>-0.5255</td>\n",
       "      <td>0.000</td>\n",
       "      <td>0.236</td>\n",
       "      <td>0.764</td>\n",
       "    </tr>\n",
       "    <tr>\n",
       "      <th>4</th>\n",
       "      <td>The place was too noisy, and the food was over...</td>\n",
       "      <td>-0.1779</td>\n",
       "      <td>0.000</td>\n",
       "      <td>0.159</td>\n",
       "      <td>0.841</td>\n",
       "    </tr>\n",
       "  </tbody>\n",
       "</table>\n",
       "</div>"
      ],
      "text/plain": [
       "                                                Text  Compound Sentiment  \\\n",
       "0  The food was absolutely delicious, and the ser...              0.6468   \n",
       "1  I had a wonderful experience; the ambiance was...              0.7184   \n",
       "2  The pasta was cooked to perfection, and the fl...              0.5719   \n",
       "3  Terrible service! We had to wait over an hour ...             -0.5255   \n",
       "4  The place was too noisy, and the food was over...             -0.1779   \n",
       "\n",
       "   Positive  Negative  Neutral  \n",
       "0     0.323     0.000    0.677  \n",
       "1     0.462     0.000    0.538  \n",
       "2     0.270     0.000    0.730  \n",
       "3     0.000     0.236    0.764  \n",
       "4     0.000     0.159    0.841  "
      ]
     },
     "execution_count": 5,
     "metadata": {},
     "output_type": "execute_result"
    }
   ],
   "source": [
    "#NLP\n",
    "\n",
    "import nltk\n",
    "nltk.download(\"vader_lexicon\")\n",
    "\n",
    "from nltk.sentiment import SentimentIntensityAnalyzer\n",
    "analyzer = SentimentIntensityAnalyzer()\n",
    "\n",
    "import pandas as pd\n",
    "\n",
    "# Create a list of made-up restaurant reviews\n",
    "reviews = [\n",
    "    \"The food was absolutely delicious, and the service was top-notch!\",  # Positive\n",
    "    \"I had a wonderful experience; the ambiance was cozy and inviting.\",  # Positive\n",
    "    \"The pasta was cooked to perfection, and the flavors were incredible.\",  # Positive\n",
    "    \"Terrible service! We had to wait over an hour for our food.\",  # Negative\n",
    "    \"The place was too noisy, and the food was overpriced.\",  # Negative\n",
    "    \"Best steak I've ever had! Highly recommend this restaurant.\",  # Positive\n",
    "    \"Disappointed with the quality of the food; it was bland and cold.\",  # Negative\n",
    "    \"Friendly staff and a great selection of wines made our evening perfect.\",  # Positive\n",
    "    \"The dessert was stale, and the coffee tasted burnt.\",  # Negative\n",
    "    \"Everything from the appetizers to the main course was exquisite!\",  # Positive\n",
    "    \"The restaurant was fine, but nothing really stood out to me.\",  # Neutral\n",
    "    \"Average food with decent service, but not worth a second visit.\",  # Neutral\n",
    "    \"It was okay, neither bad nor amazing. Just a normal dining experience.\",  # Neutral\n",
    "    \"The portion sizes were standard, and the pricing was fair.\",  # Neutral\n",
    "    \"Nothing exceptional, but it met my expectations for a casual meal.\"  # Neutral\n",
    "]\n",
    "\n",
    "# Create the DataFrame\n",
    "df = pd.DataFrame({'Text': reviews})\n",
    "\n",
    "df[\"Compound Sentiment\"] = df[\"Text\"].apply(lambda x: analyzer.polarity_scores(str(x))[\"compound\"])\n",
    "df[\"Positive\"] = df[\"Text\"].apply(lambda x: analyzer.polarity_scores(str(x))[\"pos\"])\n",
    "df[\"Negative\"] = df[\"Text\"].apply(lambda x: analyzer.polarity_scores(str(x))[\"neg\"])\n",
    "df[\"Neutral\"] = df[\"Text\"].apply(lambda x: analyzer.polarity_scores(str(x))[\"neu\"])\n",
    "\n",
    "df.head()"
   ]
  },
  {
   "cell_type": "markdown",
   "metadata": {},
   "source": [
    "### Webscraping"
   ]
  },
  {
   "cell_type": "code",
   "execution_count": 10,
   "metadata": {},
   "outputs": [
    {
     "name": "stdout",
     "output_type": "stream",
     "text": [
      "Requirement already satisfied: selenium in /opt/anaconda3/envs/datastrategy/lib/python3.11/site-packages (4.29.0)\n",
      "Requirement already satisfied: urllib3<3,>=1.26 in /opt/anaconda3/envs/datastrategy/lib/python3.11/site-packages (from urllib3[socks]<3,>=1.26->selenium) (2.2.3)\n",
      "Requirement already satisfied: trio~=0.17 in /opt/anaconda3/envs/datastrategy/lib/python3.11/site-packages (from selenium) (0.29.0)\n",
      "Requirement already satisfied: trio-websocket~=0.9 in /opt/anaconda3/envs/datastrategy/lib/python3.11/site-packages (from selenium) (0.12.1)\n",
      "Requirement already satisfied: certifi>=2021.10.8 in /opt/anaconda3/envs/datastrategy/lib/python3.11/site-packages (from selenium) (2024.8.30)\n",
      "Requirement already satisfied: typing_extensions~=4.9 in /opt/anaconda3/envs/datastrategy/lib/python3.11/site-packages (from selenium) (4.12.2)\n",
      "Requirement already satisfied: websocket-client~=1.8 in /opt/anaconda3/envs/datastrategy/lib/python3.11/site-packages (from selenium) (1.8.0)\n",
      "Requirement already satisfied: attrs>=23.2.0 in /opt/anaconda3/envs/datastrategy/lib/python3.11/site-packages (from trio~=0.17->selenium) (24.2.0)\n",
      "Requirement already satisfied: sortedcontainers in /opt/anaconda3/envs/datastrategy/lib/python3.11/site-packages (from trio~=0.17->selenium) (2.4.0)\n",
      "Requirement already satisfied: idna in /opt/anaconda3/envs/datastrategy/lib/python3.11/site-packages (from trio~=0.17->selenium) (3.10)\n",
      "Requirement already satisfied: outcome in /opt/anaconda3/envs/datastrategy/lib/python3.11/site-packages (from trio~=0.17->selenium) (1.3.0.post0)\n",
      "Requirement already satisfied: sniffio>=1.3.0 in /opt/anaconda3/envs/datastrategy/lib/python3.11/site-packages (from trio~=0.17->selenium) (1.3.1)\n",
      "Requirement already satisfied: wsproto>=0.14 in /opt/anaconda3/envs/datastrategy/lib/python3.11/site-packages (from trio-websocket~=0.9->selenium) (1.2.0)\n",
      "Requirement already satisfied: pysocks!=1.5.7,<2.0,>=1.5.6 in /opt/anaconda3/envs/datastrategy/lib/python3.11/site-packages (from urllib3[socks]<3,>=1.26->selenium) (1.7.1)\n",
      "Requirement already satisfied: h11<1,>=0.9.0 in /opt/anaconda3/envs/datastrategy/lib/python3.11/site-packages (from wsproto>=0.14->trio-websocket~=0.9->selenium) (0.14.0)\n",
      "Note: you may need to restart the kernel to use updated packages.\n",
      "Collecting webdriver_manager\n",
      "  Downloading webdriver_manager-4.0.2-py2.py3-none-any.whl.metadata (12 kB)\n",
      "Requirement already satisfied: requests in /opt/anaconda3/envs/datastrategy/lib/python3.11/site-packages (from webdriver_manager) (2.32.3)\n",
      "Collecting python-dotenv (from webdriver_manager)\n",
      "  Downloading python_dotenv-1.0.1-py3-none-any.whl.metadata (23 kB)\n",
      "Requirement already satisfied: packaging in /opt/anaconda3/envs/datastrategy/lib/python3.11/site-packages (from webdriver_manager) (24.1)\n",
      "Requirement already satisfied: charset-normalizer<4,>=2 in /opt/anaconda3/envs/datastrategy/lib/python3.11/site-packages (from requests->webdriver_manager) (3.3.2)\n",
      "Requirement already satisfied: idna<4,>=2.5 in /opt/anaconda3/envs/datastrategy/lib/python3.11/site-packages (from requests->webdriver_manager) (3.10)\n",
      "Requirement already satisfied: urllib3<3,>=1.21.1 in /opt/anaconda3/envs/datastrategy/lib/python3.11/site-packages (from requests->webdriver_manager) (2.2.3)\n",
      "Requirement already satisfied: certifi>=2017.4.17 in /opt/anaconda3/envs/datastrategy/lib/python3.11/site-packages (from requests->webdriver_manager) (2024.8.30)\n",
      "Downloading webdriver_manager-4.0.2-py2.py3-none-any.whl (27 kB)\n",
      "Downloading python_dotenv-1.0.1-py3-none-any.whl (19 kB)\n",
      "Installing collected packages: python-dotenv, webdriver_manager\n",
      "Successfully installed python-dotenv-1.0.1 webdriver_manager-4.0.2\n",
      "Note: you may need to restart the kernel to use updated packages.\n"
     ]
    }
   ],
   "source": [
    "%pip install selenium\n",
    "%pip install webdriver_manager"
   ]
  },
  {
   "cell_type": "code",
   "execution_count": 20,
   "metadata": {},
   "outputs": [
    {
     "name": "stdout",
     "output_type": "stream",
     "text": [
      "SKYHIGH - Updated February 2025 - 1112 Photos & 333 Reviews - 1 N 19th St, Philadelphia, Pennsylvania - Bars - Restaurant Reviews - Phone Number - Yelp\n"
     ]
    }
   ],
   "source": [
    "# Webscraping\n",
    "\n",
    "# Yelp - this works but my IP got blocked\n",
    "\n",
    "from selenium import webdriver\n",
    "from selenium.webdriver.chrome.service import Service\n",
    "from selenium.webdriver.common.by import By\n",
    "from selenium.webdriver.support.ui import WebDriverWait\n",
    "from selenium.webdriver.support import expected_conditions as EC\n",
    "from webdriver_manager.chrome import ChromeDriverManager\n",
    "import time\n",
    "\n",
    "# set up ChromeDriver\n",
    "options = webdriver.ChromeOptions()\n",
    "# options.add_argument(\"--headless\") # runs in background - optional\n",
    "options.add_argument(\"--disable-blink-features=AutomationControlled\")\n",
    "options.add_argument(\"--user-agent=Mozilla/5.0 (Windows NT 10.0; Win64; x64)\")\n",
    "\n",
    "driver = webdriver.Chrome(service=Service(ChromeDriverManager().install()), options=options)\n",
    "\n",
    "driver.get(\"https://www.yelp.com/biz/skyhigh-philadelphia\")\n",
    "\n",
    "print(driver.title)\n",
    "\n",
    "from selenium.webdriver.common.action_chains import ActionChains\n",
    "\n",
    "# scroll\n",
    "for _ in range(5):  \n",
    "    driver.execute_script(\"window.scrollTo(0, document.body.scrollHeight);\")\n",
    "    time.sleep(2)  \n",
    "\n",
    "# find review span\n",
    "review_list = []\n",
    "reviews = driver.find_elements(By.CSS_SELECTOR, \"span.raw__09f24__T4Ezm\")\n",
    "# reviews = driver.find_elements(By.CSS_SELECTOR, \"p.comment__09f24__gu0rG\")\n",
    "\n",
    "for review in reviews:\n",
    "    print(review.text)\n",
    "    review_list.append(review.text)\n",
    "\n",
    "driver.quit()\n",
    "\n",
    "df = pd.DataFrame(review_list, columns=[\"Review\"])\n",
    "df.to_csv(\"yelp_reviews.csv\", index=False)\n",
    "\n",
    "\n",
    "# google (maps) reviews \n",
    "\n"
   ]
  },
  {
   "cell_type": "code",
   "execution_count": null,
   "metadata": {},
   "outputs": [],
   "source": []
  }
 ],
 "metadata": {
  "kernelspec": {
   "display_name": "datastrategy",
   "language": "python",
   "name": "python3"
  },
  "language_info": {
   "codemirror_mode": {
    "name": "ipython",
    "version": 3
   },
   "file_extension": ".py",
   "mimetype": "text/x-python",
   "name": "python",
   "nbconvert_exporter": "python",
   "pygments_lexer": "ipython3",
   "version": "3.11.10"
  }
 },
 "nbformat": 4,
 "nbformat_minor": 2
}
