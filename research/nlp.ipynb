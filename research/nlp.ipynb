{
 "cells": [
  {
   "cell_type": "markdown",
   "metadata": {},
   "source": [
    "# Perceptron\n",
    "\n",
    "Using perceptron to perform binary classification of sentiment. "
   ]
  },
  {
   "cell_type": "markdown",
   "metadata": {},
   "source": [
    "Make sure you do\n",
    "\n",
    " **pip install scikit-learn nltk**\n",
    "\n",
    " **pip install transformers torch**\n"
   ]
  },
  {
   "cell_type": "code",
   "execution_count": 1,
   "metadata": {},
   "outputs": [
    {
     "name": "stdout",
     "output_type": "stream",
     "text": [
      "Model Accuracy: 0.67\n",
      "Review: The food was exceptional, and the staff was super friendly!\n",
      "Sentiment: Negative\n",
      "\n",
      "Review: Terrible experience. Food was late and tasted awful.\n",
      "Sentiment: Negative\n",
      "\n",
      "Review: Amazing atmosphere but the drinks were overpriced.\n",
      "Sentiment: Negative\n",
      "\n"
     ]
    }
   ],
   "source": [
    "from sklearn.linear_model import Perceptron\n",
    "from sklearn.model_selection import train_test_split\n",
    "from sklearn.feature_extraction.text import TfidfVectorizer\n",
    "from sklearn.metrics import accuracy_score\n",
    "\n",
    "# Expanded sample labeled reviews\n",
    "reviews = [\n",
    "    \"The pasta was cooked perfectly, but the service was extremely slow.\",\n",
    "    \"Absolutely loved the sushi! Fresh and delicious. Will visit again.\",\n",
    "    \"The burger was overpriced and tasted bland. Not worth it.\",\n",
    "    \"Fantastic ambiance with great music, but the food was mediocre.\",\n",
    "    \"The waiter was rude and inattentive, but the steak was amazing.\",\n",
    "    \"Horrible experience! Cold food, bad service, never coming back.\",\n",
    "    \"Best pizza in town! Crispy crust and the perfect amount of cheese.\",\n",
    "    \"The dessert was heavenly, but the portions were too small.\",\n",
    "    \"Waited 40 minutes for food, and when it arrived, it was cold.\",\n",
    "    \"Great value for money! Generous portions and excellent quality.\"\n",
    "]\n",
    "\n",
    "# Corresponding labels: 1 = Positive, 0 = Negative\n",
    "labels = [0, 1, 0, 0, 0, 0, 1, 0, 0, 1]\n",
    "    \n",
    "# Convert text to numerical vectors\n",
    "vectorizer = TfidfVectorizer()\n",
    "X = vectorizer.fit_transform(reviews).toarray()\n",
    "y = labels\n",
    "\n",
    "# Split into training and testing sets\n",
    "X_train, X_test, y_train, y_test = train_test_split(X, y, test_size=0.3, random_state=42)\n",
    "\n",
    "# Train Perceptron\n",
    "model = Perceptron()\n",
    "model.fit(X_train, y_train)\n",
    "\n",
    "# Evaluate model performance\n",
    "y_pred = model.predict(X_test)\n",
    "accuracy = accuracy_score(y_test, y_pred)\n",
    "print(f\"Model Accuracy: {accuracy:.2f}\")\n",
    "\n",
    "# Predict sentiment for new reviews\n",
    "new_reviews = [\n",
    "    \"The food was exceptional, and the staff was super friendly!\",\n",
    "    \"Terrible experience. Food was late and tasted awful.\",\n",
    "    \"Amazing atmosphere but the drinks were overpriced.\"\n",
    "]\n",
    "\n",
    "new_X = vectorizer.transform(new_reviews).toarray()\n",
    "predictions = model.predict(new_X)\n",
    "\n",
    "# Print results\n",
    "for review, prediction in zip(new_reviews, predictions):\n",
    "    sentiment = \"Positive\" if prediction == 1 else \"Negative\"\n",
    "    print(f\"Review: {review}\\nSentiment: {sentiment}\\n\")\n"
   ]
  },
  {
   "cell_type": "markdown",
   "metadata": {},
   "source": [
    "Perceptron : Takes a lot of time to compute and very inaccurate since the test set was very small. \n",
    "\n",
    "## VADER \n",
    "Using vader leads to more accuracy due to pre-built sentiment classification: "
   ]
  },
  {
   "cell_type": "code",
   "execution_count": 2,
   "metadata": {},
   "outputs": [
    {
     "name": "stdout",
     "output_type": "stream",
     "text": [
      "Review: Carve Cafe food is very bad in taste and greasy.\n",
      "Sentiment: Negative (Score: {'neg': 0.296, 'neu': 0.704, 'pos': 0.0, 'compound': -0.5849})\n",
      "\n",
      "Review: Terrible experience. Food was late and tasted awful.\n",
      "Sentiment: Negative (Score: {'neg': 0.504, 'neu': 0.496, 'pos': 0.0, 'compound': -0.7269})\n",
      "\n",
      "Review: Morrison serves the best chicken sandwich in town!\n",
      "Sentiment: Positive (Score: {'neg': 0.0, 'neu': 0.609, 'pos': 0.391, 'compound': 0.6696})\n",
      "\n",
      "Review: The food was exceptional, and the staff was super friendly!\n",
      "Sentiment: Positive (Score: {'neg': 0.0, 'neu': 0.52, 'pos': 0.48, 'compound': 0.8122})\n",
      "\n",
      "Review: The pasta was cooked perfectly, but the service was extremely slow.\n",
      "Sentiment: Positive (Score: {'neg': 0.0, 'neu': 0.794, 'pos': 0.206, 'compound': 0.3818})\n",
      "\n",
      "Review: The burger was greasy and the fries were soggy.\n",
      "Sentiment: Negative (Score: {'neg': 0.0, 'neu': 1.0, 'pos': 0.0, 'compound': 0.0})\n",
      "\n"
     ]
    },
    {
     "name": "stderr",
     "output_type": "stream",
     "text": [
      "[nltk_data] Downloading package vader_lexicon to\n",
      "[nltk_data]     /Users/arsh/nltk_data...\n",
      "[nltk_data]   Package vader_lexicon is already up-to-date!\n"
     ]
    }
   ],
   "source": [
    "from nltk.sentiment import SentimentIntensityAnalyzer\n",
    "import nltk\n",
    "\n",
    "# Download the required package\n",
    "nltk.download('vader_lexicon')\n",
    "\n",
    "# Initialize Sentiment Analyzer\n",
    "sia = SentimentIntensityAnalyzer()\n",
    "\n",
    "# Reviews to analyze\n",
    "reviews = [\n",
    "    \"Carve Cafe food is very bad in taste and greasy.\",\n",
    "    \"Terrible experience. Food was late and tasted awful.\",\n",
    "    \"Morrison serves the best chicken sandwich in town!\",\n",
    "    \"The food was exceptional, and the staff was super friendly!\",\n",
    "    \"The pasta was cooked perfectly, but the service was extremely slow.\", # Note the program didn't detect any negative sentiment in this review\n",
    "    \"The burger was greasy and the fries were soggy.\", # Same here, no negative sentiment detected\n",
    "] \n",
    "\n",
    "# Analyze Sentiment\n",
    "for review in reviews:\n",
    "    sentiment_score = sia.polarity_scores(review)\n",
    "    sentiment = \"Positive\" if sentiment_score['compound'] > 0 else \"Negative\"\n",
    "    print(f\"Review: {review}\\nSentiment: {sentiment} (Score: {sentiment_score})\\n\")\n"
   ]
  },
  {
   "cell_type": "markdown",
   "metadata": {},
   "source": [
    "# K-MEANS Clustering and TF-IDF\n",
    "\n",
    "TF-IDF Vectorization:\n",
    "Reviews are transformed into numerical features that capture the importance of words and phrases (including bigrams) while ignoring common stop words.\n",
    "\n",
    "K-Means Clustering:\n",
    "The reviews are grouped into clusters. You can adjust num_clusters based on how many distinct topics/products you expect (for example, clusters might naturally emerge for \"chicken\", \"greasy food\", \"pasta\", etc.).\n",
    "\n",
    "Top Terms Extraction:\n",
    "For each cluster, we sort the cluster center’s feature weights and print the top terms. These terms give insight into what the cluster is mainly discussing."
   ]
  },
  {
   "cell_type": "code",
   "execution_count": 4,
   "metadata": {},
   "outputs": [
    {
     "name": "stdout",
     "output_type": "stream",
     "text": [
      "--- Cluster 0 ---\n",
      "The burger was greasy and the fries were soggy.\n",
      "The pizza was too greasy, but the crust was perfect.\n",
      "Greasy food isn't my thing, especially when it's overcooked.\n",
      "\n",
      "Top terms in this cluster: ['greasy', 'crust', 'soggy', 'greasy crust', 'greasy fries', 'crust perfect', 'perfect', 'fries', 'pizza', 'pizza greasy']\n",
      "\n",
      "\n",
      "--- Cluster 1 ---\n",
      "Amazing grilled chicken salad with fresh veggies.\n",
      "The fried chicken is superb, perfectly seasoned.\n",
      "Loved the chicken wrap; it was light and full of flavor.\n",
      "The deep-fried chicken was overly greasy and unappetizing.\n",
      "\n",
      "Top terms in this cluster: ['chicken', 'fried chicken', 'fried', 'superb perfectly', 'seasoned', 'perfectly seasoned', 'superb', 'perfectly', 'chicken superb', 'chicken wrap']\n",
      "\n",
      "\n",
      "--- Cluster 2 ---\n",
      "I love the crispy chicken wings and the spicy sauce.\n",
      "Chicken tenders here are delicious and crispy.\n",
      "I found the pasta a bit bland and the sauce too oily.\n",
      "\n",
      "Top terms in this cluster: ['crispy', 'sauce', 'tenders delicious', 'chicken tenders', 'tenders', 'delicious crispy', 'delicious', 'chicken', 'bit', 'bit bland']\n",
      "\n",
      "\n"
     ]
    }
   ],
   "source": [
    "from sklearn.feature_extraction.text import TfidfVectorizer\n",
    "from sklearn.cluster import KMeans\n",
    "\n",
    "# Sample restaurant reviews focusing on product mentions\n",
    "reviews = [\n",
    "    \"I love the crispy chicken wings and the spicy sauce.\",\n",
    "    \"The burger was greasy and the fries were soggy.\",\n",
    "    \"Amazing grilled chicken salad with fresh veggies.\",\n",
    "    \"The pizza was too greasy, but the crust was perfect.\",\n",
    "    \"Chicken tenders here are delicious and crispy.\",\n",
    "    \"I found the pasta a bit bland and the sauce too oily.\",\n",
    "    \"The fried chicken is superb, perfectly seasoned.\",\n",
    "    \"Greasy food isn't my thing, especially when it's overcooked.\",\n",
    "    \"Loved the chicken wrap; it was light and full of flavor.\",\n",
    "    \"The deep-fried chicken was overly greasy and unappetizing.\"\n",
    "]\n",
    "\n",
    "# Step 1: Convert text to TF-IDF features\n",
    "vectorizer = TfidfVectorizer(stop_words=\"english\", ngram_range=(1,2))\n",
    "X = vectorizer.fit_transform(reviews)\n",
    "\n",
    "# Step 2: Apply K-Means clustering\n",
    "num_clusters = 3  # Adjust as needed for your dataset\n",
    "kmeans = KMeans(n_clusters=num_clusters, random_state=42)\n",
    "clusters = kmeans.fit_predict(X)\n",
    "\n",
    "# Step 3: Output the reviews grouped by cluster and list top terms per cluster\n",
    "terms = vectorizer.get_feature_names_out()\n",
    "\n",
    "for i in range(num_clusters):\n",
    "    print(f\"--- Cluster {i} ---\")\n",
    "    cluster_reviews = [reviews[j] for j in range(len(reviews)) if clusters[j] == i]\n",
    "    for review in cluster_reviews:\n",
    "        print(review)\n",
    "    \n",
    "    # Identify top terms in the cluster\n",
    "    # Note: We use the cluster centers to rank terms. They are in the TF-IDF space.\n",
    "    order_centroids = kmeans.cluster_centers_[i].argsort()[::-1]\n",
    "    top_terms = [terms[ind] for ind in order_centroids[:10]]\n",
    "    print(\"\\nTop terms in this cluster:\", top_terms)\n",
    "    print(\"\\n\")\n"
   ]
  },
  {
   "cell_type": "code",
   "execution_count": null,
   "metadata": {},
   "outputs": [],
   "source": []
  }
 ],
 "metadata": {
  "kernelspec": {
   "display_name": "datastrategy",
   "language": "python",
   "name": "python3"
  },
  "language_info": {
   "codemirror_mode": {
    "name": "ipython",
    "version": 3
   },
   "file_extension": ".py",
   "mimetype": "text/x-python",
   "name": "python",
   "nbconvert_exporter": "python",
   "pygments_lexer": "ipython3",
   "version": "3.11.11"
  }
 },
 "nbformat": 4,
 "nbformat_minor": 2
}
