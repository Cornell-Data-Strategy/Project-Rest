{
 "cells": [
  {
   "cell_type": "markdown",
   "metadata": {},
   "source": [
    "# RESEARCH"
   ]
  },
  {
   "cell_type": "markdown",
   "metadata": {},
   "source": [
    "### NLP"
   ]
  },
  {
   "cell_type": "code",
   "execution_count": null,
   "metadata": {},
   "outputs": [
    {
     "name": "stderr",
     "output_type": "stream",
     "text": [
      "[nltk_data] Downloading package vader_lexicon to\n",
      "[nltk_data]     /Users/sonja/nltk_data...\n"
     ]
    },
    {
     "data": {
      "text/html": [
       "<div>\n",
       "<style scoped>\n",
       "    .dataframe tbody tr th:only-of-type {\n",
       "        vertical-align: middle;\n",
       "    }\n",
       "\n",
       "    .dataframe tbody tr th {\n",
       "        vertical-align: top;\n",
       "    }\n",
       "\n",
       "    .dataframe thead th {\n",
       "        text-align: right;\n",
       "    }\n",
       "</style>\n",
       "<table border=\"1\" class=\"dataframe\">\n",
       "  <thead>\n",
       "    <tr style=\"text-align: right;\">\n",
       "      <th></th>\n",
       "      <th>Text</th>\n",
       "      <th>Compound Sentiment</th>\n",
       "      <th>Positive</th>\n",
       "      <th>Negative</th>\n",
       "      <th>Neutral</th>\n",
       "    </tr>\n",
       "  </thead>\n",
       "  <tbody>\n",
       "    <tr>\n",
       "      <th>0</th>\n",
       "      <td>The food was absolutely delicious, and the ser...</td>\n",
       "      <td>0.6468</td>\n",
       "      <td>0.323</td>\n",
       "      <td>0.000</td>\n",
       "      <td>0.677</td>\n",
       "    </tr>\n",
       "    <tr>\n",
       "      <th>1</th>\n",
       "      <td>I had a wonderful experience; the ambiance was...</td>\n",
       "      <td>0.7184</td>\n",
       "      <td>0.462</td>\n",
       "      <td>0.000</td>\n",
       "      <td>0.538</td>\n",
       "    </tr>\n",
       "    <tr>\n",
       "      <th>2</th>\n",
       "      <td>The pasta was cooked to perfection, and the fl...</td>\n",
       "      <td>0.5719</td>\n",
       "      <td>0.270</td>\n",
       "      <td>0.000</td>\n",
       "      <td>0.730</td>\n",
       "    </tr>\n",
       "    <tr>\n",
       "      <th>3</th>\n",
       "      <td>Terrible service! We had to wait over an hour ...</td>\n",
       "      <td>-0.5255</td>\n",
       "      <td>0.000</td>\n",
       "      <td>0.236</td>\n",
       "      <td>0.764</td>\n",
       "    </tr>\n",
       "    <tr>\n",
       "      <th>4</th>\n",
       "      <td>The place was too noisy, and the food was over...</td>\n",
       "      <td>-0.1779</td>\n",
       "      <td>0.000</td>\n",
       "      <td>0.159</td>\n",
       "      <td>0.841</td>\n",
       "    </tr>\n",
       "  </tbody>\n",
       "</table>\n",
       "</div>"
      ],
      "text/plain": [
       "                                                Text  Compound Sentiment  \\\n",
       "0  The food was absolutely delicious, and the ser...              0.6468   \n",
       "1  I had a wonderful experience; the ambiance was...              0.7184   \n",
       "2  The pasta was cooked to perfection, and the fl...              0.5719   \n",
       "3  Terrible service! We had to wait over an hour ...             -0.5255   \n",
       "4  The place was too noisy, and the food was over...             -0.1779   \n",
       "\n",
       "   Positive  Negative  Neutral  \n",
       "0     0.323     0.000    0.677  \n",
       "1     0.462     0.000    0.538  \n",
       "2     0.270     0.000    0.730  \n",
       "3     0.000     0.236    0.764  \n",
       "4     0.000     0.159    0.841  "
      ]
     },
     "execution_count": 5,
     "metadata": {},
     "output_type": "execute_result"
    }
   ],
   "source": [
    "#NLP\n",
    "\n",
    "import nltk\n",
    "nltk.download(\"vader_lexicon\")\n",
    "\n",
    "from nltk.sentiment import SentimentIntensityAnalyzer\n",
    "analyzer = SentimentIntensityAnalyzer()\n",
    "\n",
    "import pandas as pd\n",
    "\n",
    "# Create a list of made-up restaurant reviews\n",
    "reviews = [\n",
    "    \"The food was absolutely delicious, and the service was top-notch!\",  # Positive\n",
    "    \"I had a wonderful experience; the ambiance was cozy and inviting.\",  # Positive\n",
    "    \"The pasta was cooked to perfection, and the flavors were incredible.\",  # Positive\n",
    "    \"Terrible service! We had to wait over an hour for our food.\",  # Negative\n",
    "    \"The place was too noisy, and the food was overpriced.\",  # Negative\n",
    "    \"Best steak I've ever had! Highly recommend this restaurant.\",  # Positive\n",
    "    \"Disappointed with the quality of the food; it was bland and cold.\",  # Negative\n",
    "    \"Friendly staff and a great selection of wines made our evening perfect.\",  # Positive\n",
    "    \"The dessert was stale, and the coffee tasted burnt.\",  # Negative\n",
    "    \"Everything from the appetizers to the main course was exquisite!\",  # Positive\n",
    "    \"The restaurant was fine, but nothing really stood out to me.\",  # Neutral\n",
    "    \"Average food with decent service, but not worth a second visit.\",  # Neutral\n",
    "    \"It was okay, neither bad nor amazing. Just a normal dining experience.\",  # Neutral\n",
    "    \"The portion sizes were standard, and the pricing was fair.\",  # Neutral\n",
    "    \"Nothing exceptional, but it met my expectations for a casual meal.\"  # Neutral\n",
    "]\n",
    "\n",
    "# Create the DataFrame\n",
    "df = pd.DataFrame({'Text': reviews})\n",
    "\n",
    "df[\"Compound Sentiment\"] = df[\"Text\"].apply(lambda x: analyzer.polarity_scores(str(x))[\"compound\"])\n",
    "df[\"Positive\"] = df[\"Text\"].apply(lambda x: analyzer.polarity_scores(str(x))[\"pos\"])\n",
    "df[\"Negative\"] = df[\"Text\"].apply(lambda x: analyzer.polarity_scores(str(x))[\"neg\"])\n",
    "df[\"Neutral\"] = df[\"Text\"].apply(lambda x: analyzer.polarity_scores(str(x))[\"neu\"])\n",
    "\n",
    "df.head()"
   ]
  },
  {
   "cell_type": "markdown",
   "metadata": {},
   "source": [
    "### Webscraping"
   ]
  },
  {
   "cell_type": "code",
   "execution_count": 1,
   "metadata": {},
   "outputs": [
    {
     "ename": "ModuleNotFoundError",
     "evalue": "No module named 'selenium'",
     "output_type": "error",
     "traceback": [
      "\u001b[0;31m---------------------------------------------------------------------------\u001b[0m",
      "\u001b[0;31mModuleNotFoundError\u001b[0m                       Traceback (most recent call last)",
      "Cell \u001b[0;32mIn[1], line 5\u001b[0m\n\u001b[1;32m      1\u001b[0m \u001b[38;5;66;03m# Webscraping\u001b[39;00m\n\u001b[1;32m      2\u001b[0m \n\u001b[1;32m      3\u001b[0m \u001b[38;5;66;03m# Yelp - this works but my IP got blocked\u001b[39;00m\n\u001b[0;32m----> 5\u001b[0m \u001b[38;5;28;01mfrom\u001b[39;00m \u001b[38;5;21;01mselenium\u001b[39;00m \u001b[38;5;28;01mimport\u001b[39;00m webdriver\n\u001b[1;32m      6\u001b[0m \u001b[38;5;28;01mfrom\u001b[39;00m \u001b[38;5;21;01mselenium\u001b[39;00m\u001b[38;5;21;01m.\u001b[39;00m\u001b[38;5;21;01mwebdriver\u001b[39;00m\u001b[38;5;21;01m.\u001b[39;00m\u001b[38;5;21;01mchrome\u001b[39;00m\u001b[38;5;21;01m.\u001b[39;00m\u001b[38;5;21;01mservice\u001b[39;00m \u001b[38;5;28;01mimport\u001b[39;00m Service\n\u001b[1;32m      7\u001b[0m \u001b[38;5;28;01mfrom\u001b[39;00m \u001b[38;5;21;01mselenium\u001b[39;00m\u001b[38;5;21;01m.\u001b[39;00m\u001b[38;5;21;01mwebdriver\u001b[39;00m\u001b[38;5;21;01m.\u001b[39;00m\u001b[38;5;21;01mcommon\u001b[39;00m\u001b[38;5;21;01m.\u001b[39;00m\u001b[38;5;21;01mby\u001b[39;00m \u001b[38;5;28;01mimport\u001b[39;00m By\n",
      "\u001b[0;31mModuleNotFoundError\u001b[0m: No module named 'selenium'"
     ]
    }
   ],
   "source": [
    "# Webscraping\n",
    "\n",
    "# Yelp - this works but my IP got blocked\n",
    "\n",
    "from selenium import webdriver\n",
    "from selenium.webdriver.chrome.service import Service\n",
    "from selenium.webdriver.common.by import By\n",
    "from selenium.webdriver.support.ui import WebDriverWait\n",
    "from selenium.webdriver.support import expected_conditions as EC\n",
    "from webdriver_manager.chrome import ChromeDriverManager\n",
    "import time\n",
    "\n",
    "# set up ChromeDriver\n",
    "options = webdriver.ChromeOptions()\n",
    "# options.add_argument(\"--headless\") # runs in background - optional\n",
    "options.add_argument(\"--disable-blink-features=AutomationControlled\")\n",
    "options.add_argument(\"--user-agent=Mozilla/5.0 (Windows NT 10.0; Win64; x64)\")\n",
    "\n",
    "driver = webdriver.Chrome(service=Service(ChromeDriverManager().install()), options=options)\n",
    "\n",
    "driver.get(\"https://www.yelp.com/biz/skyhigh-philadelphia\")\n",
    "\n",
    "print(driver.title)\n",
    "\n",
    "from selenium.webdriver.common.action_chains import ActionChains\n",
    "\n",
    "# scroll\n",
    "for _ in range(5):  \n",
    "    driver.execute_script(\"window.scrollTo(0, document.body.scrollHeight);\")\n",
    "    time.sleep(2)  \n",
    "\n",
    "# find review span\n",
    "review_list = []\n",
    "reviews = driver.find_elements(By.CSS_SELECTOR, \"span.raw__09f24__T4Ezm\")\n",
    "# reviews = driver.find_elements(By.CSS_SELECTOR, \"p.comment__09f24__gu0rG\")\n",
    "\n",
    "for review in reviews:\n",
    "    print(review.text)\n",
    "    review_list.append(review.text)\n",
    "\n",
    "driver.quit()\n",
    "\n",
    "df = pd.DataFrame(review_list, columns=[\"Review\"])\n",
    "df.to_csv(\"yelp_reviews.csv\", index=False)\n",
    "\n",
    "\n",
    "# google (maps) reviews \n",
    "\n"
   ]
  },
  {
   "cell_type": "code",
   "execution_count": null,
   "metadata": {},
   "outputs": [],
   "source": []
  }
 ],
 "metadata": {
  "kernelspec": {
   "display_name": "datastrategy",
   "language": "python",
   "name": "python3"
  },
  "language_info": {
   "codemirror_mode": {
    "name": "ipython",
    "version": 3
   },
   "file_extension": ".py",
   "mimetype": "text/x-python",
   "name": "python",
   "nbconvert_exporter": "python",
   "pygments_lexer": "ipython3",
   "version": "3.11.11"
  }
 },
 "nbformat": 4,
 "nbformat_minor": 2
}
