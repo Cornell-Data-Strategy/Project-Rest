{
 "cells": [
  {
   "cell_type": "code",
   "execution_count": 1,
   "metadata": {},
   "outputs": [
    {
     "name": "stdout",
     "output_type": "stream",
     "text": [
      "{'entities': {}, 'intents': [{'confidence': 0.9562204085822705, 'id': '540554171811008', 'name': 'positive'}], 'text': 'This tastes good', 'traits': {}}\n",
      "{'entities': {}, 'intents': [{'confidence': 0.9022668828114498, 'id': '941251581128716', 'name': 'negative'}], 'text': 'This is bad', 'traits': {}}\n",
      "{'entities': {}, 'intents': [{'confidence': 0.9588590363942144, 'id': '941251581128716', 'name': 'negative'}], 'text': 'I do not like this', 'traits': {}}\n",
      "{'entities': {}, 'intents': [{'confidence': 0.9857934056945787, 'id': '540554171811008', 'name': 'positive'}], 'text': 'This is yummy', 'traits': {}}\n"
     ]
    }
   ],
   "source": [
    "from wit import Wit\n",
    "SERVER_ACCESS_TOKEN = \"KQO7E6U4EZTRSNVUX7ELIPVNASW5EPCJ\"\n",
    "client = Wit(SERVER_ACCESS_TOKEN)\n",
    "messages = {\"This tastes good\", \"This is bad\", \"This is yummy\", \"I do not like this\"}\n",
    "for example in messages:\n",
    "    response = client.message(example)\n",
    "    print (response)"
   ]
  }
 ],
 "metadata": {
  "kernelspec": {
   "display_name": ".venv",
   "language": "python",
   "name": "python3"
  },
  "language_info": {
   "codemirror_mode": {
    "name": "ipython",
    "version": 3
   },
   "file_extension": ".py",
   "mimetype": "text/x-python",
   "name": "python",
   "nbconvert_exporter": "python",
   "pygments_lexer": "ipython3",
   "version": "3.11.4"
  }
 },
 "nbformat": 4,
 "nbformat_minor": 2
}
