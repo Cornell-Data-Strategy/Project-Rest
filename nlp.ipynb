{
 "cells": [
  {
   "cell_type": "markdown",
   "metadata": {},
   "source": [
    "# Perceptron\n",
    "\n",
    "Using perceptron to perform binary classification of sentiment. "
   ]
  },
  {
   "cell_type": "markdown",
   "metadata": {},
   "source": [
    "Make sure you do\n",
    "\n",
    " **pip install scikit-learn nltk**\n",
    "\n",
    " **pip install transformers torch**\n"
   ]
  },
  {
   "cell_type": "code",
   "execution_count": 2,
   "metadata": {},
   "outputs": [
    {
     "name": "stdout",
     "output_type": "stream",
     "text": [
      "Model Accuracy: 0.67\n",
      "Review: The food was exceptional, and the staff was super friendly!\n",
      "Sentiment: Negative\n",
      "\n",
      "Review: Terrible experience. Food was late and tasted awful.\n",
      "Sentiment: Negative\n",
      "\n",
      "Review: Amazing atmosphere but the drinks were overpriced.\n",
      "Sentiment: Negative\n",
      "\n"
     ]
    }
   ],
   "source": [
    "from sklearn.linear_model import Perceptron\n",
    "from sklearn.model_selection import train_test_split\n",
    "from sklearn.feature_extraction.text import TfidfVectorizer\n",
    "from sklearn.metrics import accuracy_score\n",
    "\n",
    "# Expanded sample labeled reviews\n",
    "reviews = [\n",
    "    \"The pasta was cooked perfectly, but the service was extremely slow.\",\n",
    "    \"Absolutely loved the sushi! Fresh and delicious. Will visit again.\",\n",
    "    \"The burger was overpriced and tasted bland. Not worth it.\",\n",
    "    \"Fantastic ambiance with great music, but the food was mediocre.\",\n",
    "    \"The waiter was rude and inattentive, but the steak was amazing.\",\n",
    "    \"Horrible experience! Cold food, bad service, never coming back.\",\n",
    "    \"Best pizza in town! Crispy crust and the perfect amount of cheese.\",\n",
    "    \"The dessert was heavenly, but the portions were too small.\",\n",
    "    \"Waited 40 minutes for food, and when it arrived, it was cold.\",\n",
    "    \"Great value for money! Generous portions and excellent quality.\"\n",
    "]\n",
    "\n",
    "# Corresponding labels: 1 = Positive, 0 = Negative\n",
    "labels = [0, 1, 0, 0, 0, 0, 1, 0, 0, 1]\n",
    "\n",
    "# Convert text to numerical vectors\n",
    "vectorizer = TfidfVectorizer()\n",
    "X = vectorizer.fit_transform(reviews).toarray()\n",
    "y = labels\n",
    "\n",
    "# Split into training and testing sets\n",
    "X_train, X_test, y_train, y_test = train_test_split(X, y, test_size=0.3, random_state=42)\n",
    "\n",
    "# Train Perceptron\n",
    "model = Perceptron()\n",
    "model.fit(X_train, y_train)\n",
    "\n",
    "# Evaluate model performance\n",
    "y_pred = model.predict(X_test)\n",
    "accuracy = accuracy_score(y_test, y_pred)\n",
    "print(f\"Model Accuracy: {accuracy:.2f}\")\n",
    "\n",
    "# Predict sentiment for new reviews\n",
    "new_reviews = [\n",
    "    \"The food was exceptional, and the staff was super friendly!\",\n",
    "    \"Terrible experience. Food was late and tasted awful.\",\n",
    "    \"Amazing atmosphere but the drinks were overpriced.\"\n",
    "]\n",
    "\n",
    "new_X = vectorizer.transform(new_reviews).toarray()\n",
    "predictions = model.predict(new_X)\n",
    "\n",
    "# Print results\n",
    "for review, prediction in zip(new_reviews, predictions):\n",
    "    sentiment = \"Positive\" if prediction == 1 else \"Negative\"\n",
    "    print(f\"Review: {review}\\nSentiment: {sentiment}\\n\")\n"
   ]
  },
  {
   "cell_type": "markdown",
   "metadata": {},
   "source": [
    "Perceptron : Takes a lot of time to compute and very inaccurate since the test set was very small. \n",
    "\n",
    "## VADER \n",
    "Using vader leads to more accuracy due to pre-built sentiment classification: "
   ]
  },
  {
   "cell_type": "code",
   "execution_count": 3,
   "metadata": {},
   "outputs": [
    {
     "name": "stdout",
     "output_type": "stream",
     "text": [
      "Review: Carve Cafe food is very bad in taste and greasy.\n",
      "Sentiment: Negative (Score: {'neg': 0.296, 'neu': 0.704, 'pos': 0.0, 'compound': -0.5849})\n",
      "\n",
      "Review: Terrible experience. Food was late and tasted awful.\n",
      "Sentiment: Negative (Score: {'neg': 0.504, 'neu': 0.496, 'pos': 0.0, 'compound': -0.7269})\n",
      "\n",
      "Review: Morrison serves the best chicken sandwich in town!\n",
      "Sentiment: Positive (Score: {'neg': 0.0, 'neu': 0.609, 'pos': 0.391, 'compound': 0.6696})\n",
      "\n",
      "Review: The food was exceptional, and the staff was super friendly!\n",
      "Sentiment: Positive (Score: {'neg': 0.0, 'neu': 0.52, 'pos': 0.48, 'compound': 0.8122})\n",
      "\n"
     ]
    },
    {
     "name": "stderr",
     "output_type": "stream",
     "text": [
      "[nltk_data] Downloading package vader_lexicon to\n",
      "[nltk_data]     /Users/farhanmashrur/nltk_data...\n",
      "[nltk_data]   Package vader_lexicon is already up-to-date!\n"
     ]
    }
   ],
   "source": [
    "from nltk.sentiment import SentimentIntensityAnalyzer\n",
    "import nltk\n",
    "\n",
    "# Download the required package\n",
    "nltk.download('vader_lexicon')\n",
    "\n",
    "# Initialize Sentiment Analyzer\n",
    "sia = SentimentIntensityAnalyzer()\n",
    "\n",
    "# Reviews to analyze\n",
    "reviews = [\n",
    "    \"Carve Cafe food is very bad in taste and greasy.\",\n",
    "    \"Terrible experience. Food was late and tasted awful.\",\n",
    "    \"Morrison serves the best chicken sandwich in town!\",\n",
    "    \"The food was exceptional, and the staff was super friendly!\",\n",
    "]\n",
    "\n",
    "# Analyze Sentiment\n",
    "for review in reviews:\n",
    "    sentiment_score = sia.polarity_scores(review)\n",
    "    sentiment = \"Positive\" if sentiment_score['compound'] > 0 else \"Negative\"\n",
    "    print(f\"Review: {review}\\nSentiment: {sentiment} (Score: {sentiment_score})\\n\")\n"
   ]
  },
  {
   "cell_type": "markdown",
   "metadata": {},
   "source": [
    "Since VADER is lexicon-based and misses some context, you can use Hugging Face’s DistilBERT for deep learning sentiment analysis."
   ]
  },
  {
   "cell_type": "code",
   "execution_count": null,
   "metadata": {},
   "outputs": [
    {
     "name": "stderr",
     "output_type": "stream",
     "text": [
      "/Users/farhanmashrur/Desktop/cds/Project-Rest/venv/lib/python3.13/site-packages/tqdm/auto.py:21: TqdmWarning: IProgress not found. Please update jupyter and ipywidgets. See https://ipywidgets.readthedocs.io/en/stable/user_install.html\n",
      "  from .autonotebook import tqdm as notebook_tqdm\n",
      "Device set to use cpu\n"
     ]
    },
    {
     "ename": "",
     "evalue": "",
     "output_type": "error",
     "traceback": [
      "\u001b[1;31mThe Kernel crashed while executing code in the current cell or a previous cell. \n",
      "\u001b[1;31mPlease review the code in the cell(s) to identify a possible cause of the failure. \n",
      "\u001b[1;31mClick <a href='https://aka.ms/vscodeJupyterKernelCrash'>here</a> for more info. \n",
      "\u001b[1;31mView Jupyter <a href='command:jupyter.viewOutput'>log</a> for further details."
     ]
    }
   ],
   "source": []
  }
 ],
 "metadata": {
  "kernelspec": {
   "display_name": "venv",
   "language": "python",
   "name": "python3"
  },
  "language_info": {
   "codemirror_mode": {
    "name": "ipython",
    "version": 3
   },
   "file_extension": ".py",
   "mimetype": "text/x-python",
   "name": "python",
   "nbconvert_exporter": "python",
   "pygments_lexer": "ipython3",
   "version": "3.13.2"
  }
 },
 "nbformat": 4,
 "nbformat_minor": 2
}
